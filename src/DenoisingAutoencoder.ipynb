{
 "cells": [
  {
   "cell_type": "code",
   "execution_count": 1,
   "metadata": {
    "colab": {
     "base_uri": "https://localhost:8080/",
     "height": 35
    },
    "colab_type": "code",
    "id": "QbygB5YNKEMJ",
    "outputId": "cfca99ba-bbe3-48ed-9ed1-a5c189ad9469"
   },
   "outputs": [],
   "source": [
    "import numpy as np\n",
    "from keras.datasets import mnist\n",
    "import matplotlib.pyplot as plt\n",
    "from tqdm import tqdm\n",
    "from torchvision import transforms\n",
    "import torch.nn as nn\n",
    "from torch.utils.data import DataLoader,Dataset\n",
    "import torch\n",
    "import torch.optim as optim\n",
    "from torch.autograd import Variable"
   ]
  },
  {
   "cell_type": "code",
   "execution_count": 2,
   "metadata": {
    "colab": {},
    "colab_type": "code",
    "id": "fbKtjNSyKclx"
   },
   "outputs": [],
   "source": [
    "\"\"\"\n",
    "Here we load the dataset, add gaussian,poisson,speckle\n",
    "\n",
    "    'gauss'     Gaussian-distributed additive noise.\n",
    "    'speckle'   Multiplicative noise using out = image + n*image,where\n",
    "                n is uniform noise with specified mean & variance.\n",
    "                \n",
    "We define a function that adds each noise when called from main function\n",
    "Input & Output: np array\n",
    "                \n",
    "\"\"\"\n",
    "\n",
    "\n",
    "def add_noise(img,noise_type=\"gaussian\"):\n",
    "  \n",
    "  row,col=28,28\n",
    "  img=img.astype(np.float32)\n",
    "  \n",
    "  if noise_type==\"gaussian\":\n",
    "    mean=0\n",
    "    var=10\n",
    "    sigma=var**.5\n",
    "    noise=np.random.normal(-5.9,5.9,img.shape)\n",
    "    noise=noise.reshape(row,col)\n",
    "    img=img+noise\n",
    "    return img\n",
    "\n",
    "  if noise_type==\"speckle\":\n",
    "    noise=np.random.randn(row,col)\n",
    "    noise=noise.reshape(row,col)\n",
    "    img=img+img*noise\n",
    "    return img"
   ]
  },
  {
   "cell_type": "code",
   "execution_count": 3,
   "metadata": {
    "colab": {
     "base_uri": "https://localhost:8080/",
     "height": 87
    },
    "colab_type": "code",
    "id": "crPgb8VXOceY",
    "outputId": "ada9c8c1-4bbc-4880-ca46-cfa504885fe9"
   },
   "outputs": [
    {
     "name": "stdout",
     "output_type": "stream",
     "text": [
      "Downloading data from https://storage.googleapis.com/tensorflow/tf-keras-datasets/mnist.npz\n",
      "11493376/11490434 [==============================] - 0s 0us/step\n",
      "11501568/11490434 [==============================] - 0s 0us/step\n",
      "No of training datapoints:60000\n",
      "No of Test datapoints:10000\n"
     ]
    }
   ],
   "source": [
    "#Here we load the dataset from keras\n",
    "(xtrain,ytrain),(xtest,ytest)=mnist.load_data()\n",
    "print(\"No of training datapoints:{}\\nNo of Test datapoints:{}\".format(len(xtrain),len(xtest)))"
   ]
  },
  {
   "cell_type": "code",
   "execution_count": 4,
   "metadata": {
    "colab": {
     "base_uri": "https://localhost:8080/",
     "height": 191
    },
    "colab_type": "code",
    "id": "7kq9PiLARTic",
    "outputId": "480e62e7-4ed2-4278-c47c-f7770accaad2"
   },
   "outputs": [],
   "source": [
    "\"\"\"\n",
    "From here onwards,we split the 60k training datapoints into 3 sets each given one type of each noise.\n",
    "We shuffle them for better generalization.\n",
    "\"\"\"\n",
    "noises=[\"gaussian\",\"speckle\"]\n",
    "noise_ct=0\n",
    "noise_id=0\n",
    "traindata=np.zeros((60000,28,28))"
   ]
  },
  {
   "cell_type": "code",
   "execution_count": 5,
   "metadata": {
    "colab": {
     "base_uri": "https://localhost:8080/",
     "height": 191
    },
    "colab_type": "code",
    "id": "7kq9PiLARTic",
    "outputId": "480e62e7-4ed2-4278-c47c-f7770accaad2"
   },
   "outputs": [
    {
     "name": "stderr",
     "output_type": "stream",
     "text": [
      " 55%|█████▍    | 32855/60000 [00:02<00:01, 16596.86it/s]"
     ]
    },
    {
     "name": "stdout",
     "output_type": "stream",
     "text": [
      "\n",
      "gaussian noise addition completed to images\n"
     ]
    },
    {
     "name": "stderr",
     "output_type": "stream",
     "text": [
      "100%|██████████| 60000/60000 [00:03<00:00, 16274.65it/s]"
     ]
    },
    {
     "name": "stdout",
     "output_type": "stream",
     "text": [
      "\n",
      "speckle noise addition completed to images\n"
     ]
    },
    {
     "name": "stderr",
     "output_type": "stream",
     "text": [
      "\n"
     ]
    }
   ],
   "source": [
    "for idx in tqdm(range(len(xtrain))):\n",
    "  \n",
    "  if noise_ct<(len(xtrain)/2):\n",
    "    noise_ct+=1\n",
    "    traindata[idx]=add_noise(xtrain[idx],noise_type=noises[noise_id])\n",
    "    \n",
    "  else:\n",
    "    print(\"\\n{} noise addition completed to images\".format(noises[noise_id]))\n",
    "    noise_id+=1\n",
    "    noise_ct=0\n",
    "\n",
    "\n",
    "print(\"\\n{} noise addition completed to images\".format(noises[noise_id])) "
   ]
  },
  {
   "cell_type": "code",
   "execution_count": 6,
   "metadata": {
    "colab": {
     "base_uri": "https://localhost:8080/",
     "height": 191
    },
    "colab_type": "code",
    "id": "7kq9PiLARTic",
    "outputId": "480e62e7-4ed2-4278-c47c-f7770accaad2"
   },
   "outputs": [
    {
     "name": "stderr",
     "output_type": "stream",
     "text": [
      " 79%|███████▉  | 7920/10000 [00:00<00:00, 15956.69it/s]"
     ]
    },
    {
     "name": "stdout",
     "output_type": "stream",
     "text": [
      "\n",
      "gaussian noise addition completed to images\n"
     ]
    },
    {
     "name": "stderr",
     "output_type": "stream",
     "text": [
      "100%|██████████| 10000/10000 [00:00<00:00, 15804.91it/s]"
     ]
    },
    {
     "name": "stdout",
     "output_type": "stream",
     "text": [
      "\n",
      "speckle noise addition completed to images\n"
     ]
    },
    {
     "name": "stderr",
     "output_type": "stream",
     "text": [
      "\n"
     ]
    }
   ],
   "source": [
    "noise_ct=0\n",
    "noise_id=0\n",
    "testdata=np.zeros((10000,28,28))\n",
    "\n",
    "for idx in tqdm(range(len(xtest))):\n",
    "  \n",
    "  if noise_ct<(len(xtest)/2):\n",
    "    noise_ct+=1\n",
    "    x=add_noise(xtest[idx],noise_type=noises[noise_id])\n",
    "    testdata[idx]=x\n",
    "    \n",
    "  else:\n",
    "    print(\"\\n{} noise addition completed to images\".format(noises[noise_id]))\n",
    "    noise_id+=1\n",
    "    noise_ct=0\n",
    "\n",
    "\n",
    "print(\"\\n{} noise addition completed to images\".format(noises[noise_id]))    \n",
    "  "
   ]
  },
  {
   "cell_type": "code",
   "execution_count": 7,
   "metadata": {
    "colab": {
     "base_uri": "https://localhost:8080/",
     "height": 299
    },
    "colab_type": "code",
    "id": "r1PruBRYUmYZ",
    "outputId": "78712c1a-755a-433a-cc34-4b501a2fad5a"
   },
   "outputs": [
    {
     "data": {
      "text/plain": [
       "Text(0.5, 1.0, 'Noised Image')"
      ]
     },
     "execution_count": 7,
     "metadata": {},
     "output_type": "execute_result"
    },
    {
     "data": {
      "image/png": "[encoded data removed]",
      "text/plain": [
       "<Figure size 432x288 with 4 Axes>"
      ]
     },
     "metadata": {
      "needs_background": "light"
     },
     "output_type": "display_data"
    }
   ],
   "source": [
    "\"\"\"\n",
    "Here we Try to visualize, each type of noise that was introduced in the images\n",
    "Along with their original versions\n",
    "\n",
    "\"\"\"\n",
    "\n",
    "f, axes=plt.subplots(2,2)\n",
    "\n",
    "#showing images with gaussian noise\n",
    "axes[0,0].imshow(xtrain[0],cmap=\"gray\")\n",
    "axes[0,0].set_title(\"Original Image\")\n",
    "axes[1,0].imshow(traindata[0],cmap='gray')\n",
    "axes[1,0].set_title(\"Noised Image\")\n",
    "\n",
    "#showing images with speckle noise\n",
    "axes[0,1].imshow(xtrain[25000],cmap='gray')\n",
    "axes[0,1].set_title(\"Original Image\")\n",
    "axes[1,1].imshow(traindata[25000],cmap=\"gray\")\n",
    "axes[1,1].set_title(\"Noised Image\")\n",
    "\n"
   ]
  },
  {
   "cell_type": "code",
   "execution_count": 8,
   "metadata": {
    "colab": {},
    "colab_type": "code",
    "id": "Vfchnr-E_kka"
   },
   "outputs": [],
   "source": [
    "class noisedDataset(Dataset):\n",
    "  \n",
    "  def __init__(self,datasetnoised,datasetclean,labels,transform):\n",
    "    self.noise=datasetnoised\n",
    "    self.clean=datasetclean\n",
    "    self.labels=labels\n",
    "    self.transform=transform\n",
    "  \n",
    "  def __len__(self):\n",
    "    return len(self.noise)\n",
    "  \n",
    "  def __getitem__(self,idx):\n",
    "    xNoise=self.noise[idx]\n",
    "    xClean=self.clean[idx]\n",
    "    y=self.labels[idx]\n",
    "    \n",
    "    if self.transform != None:\n",
    "      xNoise=self.transform(xNoise)\n",
    "      xClean=self.transform(xClean)\n",
    "      \n",
    "    \n",
    "    return (xNoise,xClean,y)\n",
    "      \n",
    "  \n",
    "    "
   ]
  },
  {
   "cell_type": "code",
   "execution_count": 9,
   "metadata": {
    "colab": {},
    "colab_type": "code",
    "id": "HyzkdVVUC6ps"
   },
   "outputs": [],
   "source": [
    "tsfms=transforms.Compose([\n",
    "    transforms.ToTensor()\n",
    "])\n",
    "\n",
    "trainset=noisedDataset(traindata,xtrain,ytrain,tsfms)\n",
    "testset=noisedDataset(testdata,xtest,ytest,tsfms)"
   ]
  },
  {
   "cell_type": "code",
   "execution_count": 10,
   "metadata": {
    "colab": {},
    "colab_type": "code",
    "id": "vTQ_iF1fXxC8"
   },
   "outputs": [],
   "source": [
    "\"\"\"\n",
    "Here , we create the trainloaders and testloaders.\n",
    "Also, we transform the images using standard lib functions\n",
    "\"\"\"\n",
    "\n",
    "\n",
    "batch_size=32\n",
    "\n",
    "\n",
    "\n",
    "trainloader=DataLoader(trainset,batch_size=32,shuffle=True)\n",
    "testloader=DataLoader(testset,batch_size=1,shuffle=True)\n",
    "\n"
   ]
  },
  {
   "cell_type": "code",
   "execution_count": 11,
   "metadata": {
    "colab": {},
    "colab_type": "code",
    "id": "1P60Cuv7pQO6"
   },
   "outputs": [],
   "source": [
    "\"\"\"\n",
    "Here, we define the autoencoder model.\n",
    "\"\"\"\n",
    "\n",
    "class denoising_model(nn.Module):\n",
    "  def __init__(self):\n",
    "    super(denoising_model,self).__init__()\n",
    "    self.encoder=nn.Sequential(\n",
    "                  nn.Linear(28*28,256),\n",
    "                  nn.ReLU(True),\n",
    "                  nn.Linear(256,128),\n",
    "                  nn.ReLU(True),\n",
    "                  nn.Linear(128,64),\n",
    "                  nn.ReLU(True)\n",
    "        \n",
    "                  )\n",
    "    \n",
    "    self.decoder=nn.Sequential(\n",
    "                  nn.Linear(64,128),\n",
    "                  nn.ReLU(True),\n",
    "                  nn.Linear(128,256),\n",
    "                  nn.ReLU(True),\n",
    "                  nn.Linear(256,28*28),\n",
    "                  nn.Sigmoid(),\n",
    "                  )\n",
    "    \n",
    " \n",
    "  def forward(self,x):\n",
    "    x=self.encoder(x)\n",
    "    x=self.decoder(x)\n",
    "    \n",
    "    return x\n",
    "  "
   ]
  },
  {
   "cell_type": "code",
   "execution_count": 44,
   "metadata": {},
   "outputs": [],
   "source": [
    "\"\"\"\n",
    "Here, we define the quantized autoencoder model.\n",
    "\"\"\"\n",
    "\n",
    "class denoising_model_q(nn.Module):\n",
    "  def __init__(self):\n",
    "    super(denoising_model_q,self).__init__()\n",
    "    self.quant = torch.quantization.QuantStub()\n",
    "    self.dequant = torch.quantization.DeQuantStub()\n",
    "    self.encoder=nn.Sequential(\n",
    "                  nn.Linear(28*28,256),\n",
    "                  nn.ReLU(True),\n",
    "                  nn.Linear(256,128),\n",
    "                  nn.ReLU(True),\n",
    "                  nn.Linear(128,64),\n",
    "                  nn.ReLU(True)\n",
    "        \n",
    "                  )\n",
    "    \n",
    "    self.decoder=nn.Sequential(\n",
    "                  nn.Linear(64,128),\n",
    "                  nn.ReLU(True),\n",
    "                  nn.Linear(128,256),\n",
    "                  nn.ReLU(True),\n",
    "                  nn.Linear(256,28*28),\n",
    "                  nn.Sigmoid(),\n",
    "                  )\n",
    "    \n",
    " \n",
    "  def forward(self,x):\n",
    "    x = self.quant(x)\n",
    "    x=self.encoder(x)\n",
    "    x=self.decoder(x)\n",
    "    x=self.dequant(x)\n",
    "    \n",
    "    return x\n",
    "  "
   ]
  },
  {
   "cell_type": "code",
   "execution_count": 91,
   "metadata": {
    "colab": {
     "base_uri": "https://localhost:8080/",
     "height": 6257
    },
    "colab_type": "code",
    "id": "S_AYl41OsNtt",
    "outputId": "e000921e-4fc4-4597-b5c5-023405347075"
   },
   "outputs": [],
   "source": [
    "#We check whether cuda is available and choose device accordingly\n",
    "if torch.cuda.is_available()==True:\n",
    "  device=\"cuda:0\"\n",
    "else:\n",
    "  device =\"cpu\"\n",
    "  \n",
    "model=denoising_model().to(device)\n",
    "criterion=nn.MSELoss()\n",
    "optimizer=optim.SGD(model.parameters(),lr=0.01,weight_decay=1e-5)"
   ]
  },
  {
   "cell_type": "code",
   "execution_count": 92,
   "metadata": {
    "colab": {
     "base_uri": "https://localhost:8080/",
     "height": 6257
    },
    "colab_type": "code",
    "id": "S_AYl41OsNtt",
    "outputId": "e000921e-4fc4-4597-b5c5-023405347075"
   },
   "outputs": [
    {
     "name": "stdout",
     "output_type": "stream",
     "text": [
      "Entering Epoch:  0\n"
     ]
    },
    {
     "name": "stderr",
     "output_type": "stream",
     "text": [
      "100%|██████████| 1875/1875 [00:08<00:00, 211.39it/s]\n"
     ]
    },
    {
     "name": "stdout",
     "output_type": "stream",
     "text": [
      "======> epoch: 0/120, Loss:0.07227866351604462\n",
      "Entering Epoch:  1\n"
     ]
    },
    {
     "name": "stderr",
     "output_type": "stream",
     "text": [
      "100%|██████████| 1875/1875 [00:08<00:00, 211.93it/s]\n"
     ]
    },
    {
     "name": "stdout",
     "output_type": "stream",
     "text": [
      "======> epoch: 1/120, Loss:0.0630289688706398\n",
      "Entering Epoch:  2\n"
     ]
    },
    {
     "name": "stderr",
     "output_type": "stream",
     "text": [
      "100%|██████████| 1875/1875 [00:08<00:00, 208.52it/s]\n"
     ]
    },
    {
     "name": "stdout",
     "output_type": "stream",
     "text": [
      "======> epoch: 2/120, Loss:0.06534122675657272\n",
      "Entering Epoch:  3\n"
     ]
    },
    {
     "name": "stderr",
     "output_type": "stream",
     "text": [
      "100%|██████████| 1875/1875 [00:08<00:00, 209.95it/s]\n"
     ]
    },
    {
     "name": "stdout",
     "output_type": "stream",
     "text": [
      "======> epoch: 3/120, Loss:0.06047489121556282\n",
      "Entering Epoch:  4\n"
     ]
    },
    {
     "name": "stderr",
     "output_type": "stream",
     "text": [
      "100%|██████████| 1875/1875 [00:09<00:00, 208.24it/s]\n"
     ]
    },
    {
     "name": "stdout",
     "output_type": "stream",
     "text": [
      "======> epoch: 4/120, Loss:0.06568524241447449\n",
      "Entering Epoch:  5\n"
     ]
    },
    {
     "name": "stderr",
     "output_type": "stream",
     "text": [
      "100%|██████████| 1875/1875 [00:08<00:00, 211.47it/s]\n"
     ]
    },
    {
     "name": "stdout",
     "output_type": "stream",
     "text": [
      "======> epoch: 5/120, Loss:0.05729394778609276\n",
      "Entering Epoch:  6\n"
     ]
    },
    {
     "name": "stderr",
     "output_type": "stream",
     "text": [
      "100%|██████████| 1875/1875 [00:08<00:00, 209.93it/s]\n"
     ]
    },
    {
     "name": "stdout",
     "output_type": "stream",
     "text": [
      "======> epoch: 6/120, Loss:0.058519426733255386\n",
      "Entering Epoch:  7\n"
     ]
    },
    {
     "name": "stderr",
     "output_type": "stream",
     "text": [
      "100%|██████████| 1875/1875 [00:08<00:00, 213.79it/s]\n"
     ]
    },
    {
     "name": "stdout",
     "output_type": "stream",
     "text": [
      "======> epoch: 7/120, Loss:0.054537154734134674\n",
      "Entering Epoch:  8\n"
     ]
    },
    {
     "name": "stderr",
     "output_type": "stream",
     "text": [
      "100%|██████████| 1875/1875 [00:08<00:00, 216.92it/s]\n"
     ]
    },
    {
     "name": "stdout",
     "output_type": "stream",
     "text": [
      "======> epoch: 8/120, Loss:0.04909344017505646\n",
      "Entering Epoch:  9\n"
     ]
    },
    {
     "name": "stderr",
     "output_type": "stream",
     "text": [
      "100%|██████████| 1875/1875 [00:08<00:00, 212.51it/s]\n"
     ]
    },
    {
     "name": "stdout",
     "output_type": "stream",
     "text": [
      "======> epoch: 9/120, Loss:0.05489613860845566\n",
      "Entering Epoch:  10\n"
     ]
    },
    {
     "name": "stderr",
     "output_type": "stream",
     "text": [
      "100%|██████████| 1875/1875 [00:08<00:00, 216.26it/s]\n"
     ]
    },
    {
     "name": "stdout",
     "output_type": "stream",
     "text": [
      "======> epoch: 10/120, Loss:0.04984908178448677\n",
      "Entering Epoch:  11\n"
     ]
    },
    {
     "name": "stderr",
     "output_type": "stream",
     "text": [
      "100%|██████████| 1875/1875 [00:08<00:00, 218.02it/s]\n"
     ]
    },
    {
     "name": "stdout",
     "output_type": "stream",
     "text": [
      "======> epoch: 11/120, Loss:0.05266733467578888\n",
      "Entering Epoch:  12\n"
     ]
    },
    {
     "name": "stderr",
     "output_type": "stream",
     "text": [
      "100%|██████████| 1875/1875 [00:08<00:00, 215.40it/s]\n"
     ]
    },
    {
     "name": "stdout",
     "output_type": "stream",
     "text": [
      "======> epoch: 12/120, Loss:0.04914776235818863\n",
      "Entering Epoch:  13\n"
     ]
    },
    {
     "name": "stderr",
     "output_type": "stream",
     "text": [
      "100%|██████████| 1875/1875 [00:08<00:00, 215.25it/s]\n"
     ]
    },
    {
     "name": "stdout",
     "output_type": "stream",
     "text": [
      "======> epoch: 13/120, Loss:0.05088423937559128\n",
      "Entering Epoch:  14\n"
     ]
    },
    {
     "name": "stderr",
     "output_type": "stream",
     "text": [
      "100%|██████████| 1875/1875 [00:08<00:00, 218.08it/s]\n"
     ]
    },
    {
     "name": "stdout",
     "output_type": "stream",
     "text": [
      "======> epoch: 14/120, Loss:0.04135235771536827\n",
      "Entering Epoch:  15\n"
     ]
    },
    {
     "name": "stderr",
     "output_type": "stream",
     "text": [
      "100%|██████████| 1875/1875 [00:08<00:00, 216.78it/s]\n"
     ]
    },
    {
     "name": "stdout",
     "output_type": "stream",
     "text": [
      "======> epoch: 15/120, Loss:0.04060323163866997\n",
      "Entering Epoch:  16\n"
     ]
    },
    {
     "name": "stderr",
     "output_type": "stream",
     "text": [
      "100%|██████████| 1875/1875 [00:08<00:00, 214.93it/s]\n"
     ]
    },
    {
     "name": "stdout",
     "output_type": "stream",
     "text": [
      "======> epoch: 16/120, Loss:0.04102082550525665\n",
      "Entering Epoch:  17\n"
     ]
    },
    {
     "name": "stderr",
     "output_type": "stream",
     "text": [
      "100%|██████████| 1875/1875 [00:08<00:00, 219.71it/s]\n"
     ]
    },
    {
     "name": "stdout",
     "output_type": "stream",
     "text": [
      "======> epoch: 17/120, Loss:0.046071697026491165\n",
      "Entering Epoch:  18\n"
     ]
    },
    {
     "name": "stderr",
     "output_type": "stream",
     "text": [
      "100%|██████████| 1875/1875 [00:08<00:00, 215.14it/s]\n"
     ]
    },
    {
     "name": "stdout",
     "output_type": "stream",
     "text": [
      "======> epoch: 18/120, Loss:0.04065748676657677\n",
      "Entering Epoch:  19\n"
     ]
    },
    {
     "name": "stderr",
     "output_type": "stream",
     "text": [
      "100%|██████████| 1875/1875 [00:08<00:00, 213.61it/s]\n"
     ]
    },
    {
     "name": "stdout",
     "output_type": "stream",
     "text": [
      "======> epoch: 19/120, Loss:0.04060865938663483\n",
      "Entering Epoch:  20\n"
     ]
    },
    {
     "name": "stderr",
     "output_type": "stream",
     "text": [
      "100%|██████████| 1875/1875 [00:08<00:00, 217.17it/s]\n"
     ]
    },
    {
     "name": "stdout",
     "output_type": "stream",
     "text": [
      "======> epoch: 20/120, Loss:0.03618404269218445\n",
      "Entering Epoch:  21\n"
     ]
    },
    {
     "name": "stderr",
     "output_type": "stream",
     "text": [
      "100%|██████████| 1875/1875 [00:08<00:00, 213.18it/s]\n"
     ]
    },
    {
     "name": "stdout",
     "output_type": "stream",
     "text": [
      "======> epoch: 21/120, Loss:0.03823264688253403\n",
      "Entering Epoch:  22\n"
     ]
    },
    {
     "name": "stderr",
     "output_type": "stream",
     "text": [
      "100%|██████████| 1875/1875 [00:08<00:00, 213.32it/s]\n"
     ]
    },
    {
     "name": "stdout",
     "output_type": "stream",
     "text": [
      "======> epoch: 22/120, Loss:0.0410638228058815\n",
      "Entering Epoch:  23\n"
     ]
    },
    {
     "name": "stderr",
     "output_type": "stream",
     "text": [
      "100%|██████████| 1875/1875 [00:08<00:00, 215.66it/s]\n"
     ]
    },
    {
     "name": "stdout",
     "output_type": "stream",
     "text": [
      "======> epoch: 23/120, Loss:0.040018465369939804\n",
      "Entering Epoch:  24\n"
     ]
    },
    {
     "name": "stderr",
     "output_type": "stream",
     "text": [
      "100%|██████████| 1875/1875 [00:08<00:00, 219.65it/s]\n"
     ]
    },
    {
     "name": "stdout",
     "output_type": "stream",
     "text": [
      "======> epoch: 24/120, Loss:0.03563903272151947\n",
      "Entering Epoch:  25\n"
     ]
    },
    {
     "name": "stderr",
     "output_type": "stream",
     "text": [
      "100%|██████████| 1875/1875 [00:08<00:00, 218.21it/s]\n"
     ]
    },
    {
     "name": "stdout",
     "output_type": "stream",
     "text": [
      "======> epoch: 25/120, Loss:0.036333389580249786\n",
      "Entering Epoch:  26\n"
     ]
    },
    {
     "name": "stderr",
     "output_type": "stream",
     "text": [
      "100%|██████████| 1875/1875 [00:08<00:00, 217.95it/s]\n"
     ]
    },
    {
     "name": "stdout",
     "output_type": "stream",
     "text": [
      "======> epoch: 26/120, Loss:0.035179443657398224\n",
      "Entering Epoch:  27\n"
     ]
    },
    {
     "name": "stderr",
     "output_type": "stream",
     "text": [
      "100%|██████████| 1875/1875 [00:08<00:00, 217.53it/s]\n"
     ]
    },
    {
     "name": "stdout",
     "output_type": "stream",
     "text": [
      "======> epoch: 27/120, Loss:0.0367259681224823\n",
      "Entering Epoch:  28\n"
     ]
    },
    {
     "name": "stderr",
     "output_type": "stream",
     "text": [
      "100%|██████████| 1875/1875 [00:08<00:00, 215.31it/s]\n"
     ]
    },
    {
     "name": "stdout",
     "output_type": "stream",
     "text": [
      "======> epoch: 28/120, Loss:0.03416116535663605\n",
      "Entering Epoch:  29\n"
     ]
    },
    {
     "name": "stderr",
     "output_type": "stream",
     "text": [
      "100%|██████████| 1875/1875 [00:08<00:00, 214.97it/s]\n"
     ]
    },
    {
     "name": "stdout",
     "output_type": "stream",
     "text": [
      "======> epoch: 29/120, Loss:0.036481183022260666\n",
      "Entering Epoch:  30\n"
     ]
    },
    {
     "name": "stderr",
     "output_type": "stream",
     "text": [
      "100%|██████████| 1875/1875 [00:08<00:00, 215.79it/s]\n"
     ]
    },
    {
     "name": "stdout",
     "output_type": "stream",
     "text": [
      "======> epoch: 30/120, Loss:0.03277468681335449\n",
      "Entering Epoch:  31\n"
     ]
    },
    {
     "name": "stderr",
     "output_type": "stream",
     "text": [
      "100%|██████████| 1875/1875 [00:08<00:00, 214.24it/s]\n"
     ]
    },
    {
     "name": "stdout",
     "output_type": "stream",
     "text": [
      "======> epoch: 31/120, Loss:0.037275176495313644\n",
      "Entering Epoch:  32\n"
     ]
    },
    {
     "name": "stderr",
     "output_type": "stream",
     "text": [
      "100%|██████████| 1875/1875 [00:08<00:00, 213.25it/s]\n"
     ]
    },
    {
     "name": "stdout",
     "output_type": "stream",
     "text": [
      "======> epoch: 32/120, Loss:0.03542793542146683\n",
      "Entering Epoch:  33\n"
     ]
    },
    {
     "name": "stderr",
     "output_type": "stream",
     "text": [
      "100%|██████████| 1875/1875 [00:08<00:00, 214.29it/s]\n"
     ]
    },
    {
     "name": "stdout",
     "output_type": "stream",
     "text": [
      "======> epoch: 33/120, Loss:0.035325076431035995\n",
      "Entering Epoch:  34\n"
     ]
    },
    {
     "name": "stderr",
     "output_type": "stream",
     "text": [
      "100%|██████████| 1875/1875 [00:08<00:00, 215.57it/s]\n"
     ]
    },
    {
     "name": "stdout",
     "output_type": "stream",
     "text": [
      "======> epoch: 34/120, Loss:0.030530987307429314\n",
      "Entering Epoch:  35\n"
     ]
    },
    {
     "name": "stderr",
     "output_type": "stream",
     "text": [
      "100%|██████████| 1875/1875 [00:08<00:00, 216.02it/s]\n"
     ]
    },
    {
     "name": "stdout",
     "output_type": "stream",
     "text": [
      "======> epoch: 35/120, Loss:0.03389761969447136\n",
      "Entering Epoch:  36\n"
     ]
    },
    {
     "name": "stderr",
     "output_type": "stream",
     "text": [
      "100%|██████████| 1875/1875 [00:08<00:00, 213.97it/s]\n"
     ]
    },
    {
     "name": "stdout",
     "output_type": "stream",
     "text": [
      "======> epoch: 36/120, Loss:0.028695257380604744\n",
      "Entering Epoch:  37\n"
     ]
    },
    {
     "name": "stderr",
     "output_type": "stream",
     "text": [
      "100%|██████████| 1875/1875 [00:08<00:00, 215.10it/s]\n"
     ]
    },
    {
     "name": "stdout",
     "output_type": "stream",
     "text": [
      "======> epoch: 37/120, Loss:0.0347960963845253\n",
      "Entering Epoch:  38\n"
     ]
    },
    {
     "name": "stderr",
     "output_type": "stream",
     "text": [
      "100%|██████████| 1875/1875 [00:08<00:00, 215.51it/s]\n"
     ]
    },
    {
     "name": "stdout",
     "output_type": "stream",
     "text": [
      "======> epoch: 38/120, Loss:0.033681970089673996\n",
      "Entering Epoch:  39\n"
     ]
    },
    {
     "name": "stderr",
     "output_type": "stream",
     "text": [
      "100%|██████████| 1875/1875 [00:08<00:00, 215.68it/s]\n"
     ]
    },
    {
     "name": "stdout",
     "output_type": "stream",
     "text": [
      "======> epoch: 39/120, Loss:0.03113873116672039\n",
      "Entering Epoch:  40\n"
     ]
    },
    {
     "name": "stderr",
     "output_type": "stream",
     "text": [
      "100%|██████████| 1875/1875 [00:08<00:00, 213.59it/s]\n"
     ]
    },
    {
     "name": "stdout",
     "output_type": "stream",
     "text": [
      "======> epoch: 40/120, Loss:0.02934623695909977\n",
      "Entering Epoch:  41\n"
     ]
    },
    {
     "name": "stderr",
     "output_type": "stream",
     "text": [
      "100%|██████████| 1875/1875 [00:08<00:00, 216.03it/s]\n"
     ]
    },
    {
     "name": "stdout",
     "output_type": "stream",
     "text": [
      "======> epoch: 41/120, Loss:0.027632303535938263\n",
      "Entering Epoch:  42\n"
     ]
    },
    {
     "name": "stderr",
     "output_type": "stream",
     "text": [
      "100%|██████████| 1875/1875 [00:08<00:00, 214.73it/s]\n"
     ]
    },
    {
     "name": "stdout",
     "output_type": "stream",
     "text": [
      "======> epoch: 42/120, Loss:0.03060893714427948\n",
      "Entering Epoch:  43\n"
     ]
    },
    {
     "name": "stderr",
     "output_type": "stream",
     "text": [
      "100%|██████████| 1875/1875 [00:08<00:00, 217.66it/s]\n"
     ]
    },
    {
     "name": "stdout",
     "output_type": "stream",
     "text": [
      "======> epoch: 43/120, Loss:0.030461464077234268\n",
      "Entering Epoch:  44\n"
     ]
    },
    {
     "name": "stderr",
     "output_type": "stream",
     "text": [
      "100%|██████████| 1875/1875 [00:08<00:00, 213.03it/s]\n"
     ]
    },
    {
     "name": "stdout",
     "output_type": "stream",
     "text": [
      "======> epoch: 44/120, Loss:0.03273859992623329\n",
      "Entering Epoch:  45\n"
     ]
    },
    {
     "name": "stderr",
     "output_type": "stream",
     "text": [
      "100%|██████████| 1875/1875 [00:08<00:00, 215.57it/s]\n"
     ]
    },
    {
     "name": "stdout",
     "output_type": "stream",
     "text": [
      "======> epoch: 45/120, Loss:0.025915034115314484\n",
      "Entering Epoch:  46\n"
     ]
    },
    {
     "name": "stderr",
     "output_type": "stream",
     "text": [
      "100%|██████████| 1875/1875 [00:08<00:00, 213.14it/s]\n"
     ]
    },
    {
     "name": "stdout",
     "output_type": "stream",
     "text": [
      "======> epoch: 46/120, Loss:0.027665821835398674\n",
      "Entering Epoch:  47\n"
     ]
    },
    {
     "name": "stderr",
     "output_type": "stream",
     "text": [
      "100%|██████████| 1875/1875 [00:08<00:00, 215.61it/s]\n"
     ]
    },
    {
     "name": "stdout",
     "output_type": "stream",
     "text": [
      "======> epoch: 47/120, Loss:0.029394689947366714\n",
      "Entering Epoch:  48\n"
     ]
    },
    {
     "name": "stderr",
     "output_type": "stream",
     "text": [
      "100%|██████████| 1875/1875 [00:08<00:00, 214.99it/s]\n"
     ]
    },
    {
     "name": "stdout",
     "output_type": "stream",
     "text": [
      "======> epoch: 48/120, Loss:0.028968390077352524\n",
      "Entering Epoch:  49\n"
     ]
    },
    {
     "name": "stderr",
     "output_type": "stream",
     "text": [
      "100%|██████████| 1875/1875 [00:08<00:00, 216.34it/s]\n"
     ]
    },
    {
     "name": "stdout",
     "output_type": "stream",
     "text": [
      "======> epoch: 49/120, Loss:0.03155999630689621\n",
      "Entering Epoch:  50\n"
     ]
    },
    {
     "name": "stderr",
     "output_type": "stream",
     "text": [
      "100%|██████████| 1875/1875 [00:08<00:00, 211.41it/s]\n"
     ]
    },
    {
     "name": "stdout",
     "output_type": "stream",
     "text": [
      "======> epoch: 50/120, Loss:0.02985868602991104\n",
      "Entering Epoch:  51\n"
     ]
    },
    {
     "name": "stderr",
     "output_type": "stream",
     "text": [
      "100%|██████████| 1875/1875 [00:08<00:00, 215.59it/s]\n"
     ]
    },
    {
     "name": "stdout",
     "output_type": "stream",
     "text": [
      "======> epoch: 51/120, Loss:0.028611375018954277\n",
      "Entering Epoch:  52\n"
     ]
    },
    {
     "name": "stderr",
     "output_type": "stream",
     "text": [
      "100%|██████████| 1875/1875 [00:08<00:00, 214.72it/s]\n"
     ]
    },
    {
     "name": "stdout",
     "output_type": "stream",
     "text": [
      "======> epoch: 52/120, Loss:0.028633885085582733\n",
      "Entering Epoch:  53\n"
     ]
    },
    {
     "name": "stderr",
     "output_type": "stream",
     "text": [
      "100%|██████████| 1875/1875 [00:08<00:00, 217.96it/s]\n"
     ]
    },
    {
     "name": "stdout",
     "output_type": "stream",
     "text": [
      "======> epoch: 53/120, Loss:0.030229294672608376\n",
      "Entering Epoch:  54\n"
     ]
    },
    {
     "name": "stderr",
     "output_type": "stream",
     "text": [
      "100%|██████████| 1875/1875 [00:08<00:00, 216.44it/s]\n"
     ]
    },
    {
     "name": "stdout",
     "output_type": "stream",
     "text": [
      "======> epoch: 54/120, Loss:0.03074621595442295\n",
      "Entering Epoch:  55\n"
     ]
    },
    {
     "name": "stderr",
     "output_type": "stream",
     "text": [
      "100%|██████████| 1875/1875 [00:08<00:00, 215.68it/s]\n"
     ]
    },
    {
     "name": "stdout",
     "output_type": "stream",
     "text": [
      "======> epoch: 55/120, Loss:0.02470267191529274\n",
      "Entering Epoch:  56\n"
     ]
    },
    {
     "name": "stderr",
     "output_type": "stream",
     "text": [
      "100%|██████████| 1875/1875 [00:08<00:00, 215.68it/s]\n"
     ]
    },
    {
     "name": "stdout",
     "output_type": "stream",
     "text": [
      "======> epoch: 56/120, Loss:0.027670811861753464\n",
      "Entering Epoch:  57\n"
     ]
    },
    {
     "name": "stderr",
     "output_type": "stream",
     "text": [
      "100%|██████████| 1875/1875 [00:08<00:00, 217.47it/s]\n"
     ]
    },
    {
     "name": "stdout",
     "output_type": "stream",
     "text": [
      "======> epoch: 57/120, Loss:0.028291190043091774\n",
      "Entering Epoch:  58\n"
     ]
    },
    {
     "name": "stderr",
     "output_type": "stream",
     "text": [
      "100%|██████████| 1875/1875 [00:08<00:00, 218.40it/s]\n"
     ]
    },
    {
     "name": "stdout",
     "output_type": "stream",
     "text": [
      "======> epoch: 58/120, Loss:0.025190863758325577\n",
      "Entering Epoch:  59\n"
     ]
    },
    {
     "name": "stderr",
     "output_type": "stream",
     "text": [
      "100%|██████████| 1875/1875 [00:08<00:00, 213.37it/s]\n"
     ]
    },
    {
     "name": "stdout",
     "output_type": "stream",
     "text": [
      "======> epoch: 59/120, Loss:0.024739433079957962\n",
      "Entering Epoch:  60\n"
     ]
    },
    {
     "name": "stderr",
     "output_type": "stream",
     "text": [
      "100%|██████████| 1875/1875 [00:08<00:00, 218.23it/s]\n"
     ]
    },
    {
     "name": "stdout",
     "output_type": "stream",
     "text": [
      "======> epoch: 60/120, Loss:0.02630806900560856\n",
      "Entering Epoch:  61\n"
     ]
    },
    {
     "name": "stderr",
     "output_type": "stream",
     "text": [
      "100%|██████████| 1875/1875 [00:08<00:00, 217.48it/s]\n"
     ]
    },
    {
     "name": "stdout",
     "output_type": "stream",
     "text": [
      "======> epoch: 61/120, Loss:0.027394726872444153\n",
      "Entering Epoch:  62\n"
     ]
    },
    {
     "name": "stderr",
     "output_type": "stream",
     "text": [
      "100%|██████████| 1875/1875 [00:08<00:00, 214.45it/s]\n"
     ]
    },
    {
     "name": "stdout",
     "output_type": "stream",
     "text": [
      "======> epoch: 62/120, Loss:0.02526322565972805\n",
      "Entering Epoch:  63\n"
     ]
    },
    {
     "name": "stderr",
     "output_type": "stream",
     "text": [
      "100%|██████████| 1875/1875 [00:08<00:00, 217.23it/s]\n"
     ]
    },
    {
     "name": "stdout",
     "output_type": "stream",
     "text": [
      "======> epoch: 63/120, Loss:0.023741643875837326\n",
      "Entering Epoch:  64\n"
     ]
    },
    {
     "name": "stderr",
     "output_type": "stream",
     "text": [
      "100%|██████████| 1875/1875 [00:08<00:00, 214.23it/s]\n"
     ]
    },
    {
     "name": "stdout",
     "output_type": "stream",
     "text": [
      "======> epoch: 64/120, Loss:0.025089792907238007\n",
      "Entering Epoch:  65\n"
     ]
    },
    {
     "name": "stderr",
     "output_type": "stream",
     "text": [
      "100%|██████████| 1875/1875 [00:08<00:00, 215.71it/s]\n"
     ]
    },
    {
     "name": "stdout",
     "output_type": "stream",
     "text": [
      "======> epoch: 65/120, Loss:0.0279573705047369\n",
      "Entering Epoch:  66\n"
     ]
    },
    {
     "name": "stderr",
     "output_type": "stream",
     "text": [
      "100%|██████████| 1875/1875 [00:08<00:00, 215.03it/s]\n"
     ]
    },
    {
     "name": "stdout",
     "output_type": "stream",
     "text": [
      "======> epoch: 66/120, Loss:0.026977669447660446\n",
      "Entering Epoch:  67\n"
     ]
    },
    {
     "name": "stderr",
     "output_type": "stream",
     "text": [
      "100%|██████████| 1875/1875 [00:08<00:00, 216.15it/s]\n"
     ]
    },
    {
     "name": "stdout",
     "output_type": "stream",
     "text": [
      "======> epoch: 67/120, Loss:0.026563609018921852\n",
      "Entering Epoch:  68\n"
     ]
    },
    {
     "name": "stderr",
     "output_type": "stream",
     "text": [
      "100%|██████████| 1875/1875 [00:08<00:00, 217.26it/s]\n"
     ]
    },
    {
     "name": "stdout",
     "output_type": "stream",
     "text": [
      "======> epoch: 68/120, Loss:0.029321862384676933\n",
      "Entering Epoch:  69\n"
     ]
    },
    {
     "name": "stderr",
     "output_type": "stream",
     "text": [
      "100%|██████████| 1875/1875 [00:08<00:00, 212.33it/s]\n"
     ]
    },
    {
     "name": "stdout",
     "output_type": "stream",
     "text": [
      "======> epoch: 69/120, Loss:0.026021966710686684\n",
      "Entering Epoch:  70\n"
     ]
    },
    {
     "name": "stderr",
     "output_type": "stream",
     "text": [
      "100%|██████████| 1875/1875 [00:08<00:00, 215.28it/s]\n"
     ]
    },
    {
     "name": "stdout",
     "output_type": "stream",
     "text": [
      "======> epoch: 70/120, Loss:0.02550993114709854\n",
      "Entering Epoch:  71\n"
     ]
    },
    {
     "name": "stderr",
     "output_type": "stream",
     "text": [
      "100%|██████████| 1875/1875 [00:08<00:00, 215.24it/s]\n"
     ]
    },
    {
     "name": "stdout",
     "output_type": "stream",
     "text": [
      "======> epoch: 71/120, Loss:0.028779180720448494\n",
      "Entering Epoch:  72\n"
     ]
    },
    {
     "name": "stderr",
     "output_type": "stream",
     "text": [
      "100%|██████████| 1875/1875 [00:08<00:00, 212.71it/s]\n"
     ]
    },
    {
     "name": "stdout",
     "output_type": "stream",
     "text": [
      "======> epoch: 72/120, Loss:0.024137921631336212\n",
      "Entering Epoch:  73\n"
     ]
    },
    {
     "name": "stderr",
     "output_type": "stream",
     "text": [
      "100%|██████████| 1875/1875 [00:08<00:00, 216.19it/s]\n"
     ]
    },
    {
     "name": "stdout",
     "output_type": "stream",
     "text": [
      "======> epoch: 73/120, Loss:0.02704593352973461\n",
      "Entering Epoch:  74\n"
     ]
    },
    {
     "name": "stderr",
     "output_type": "stream",
     "text": [
      "100%|██████████| 1875/1875 [00:08<00:00, 215.97it/s]\n"
     ]
    },
    {
     "name": "stdout",
     "output_type": "stream",
     "text": [
      "======> epoch: 74/120, Loss:0.024334870278835297\n",
      "Entering Epoch:  75\n"
     ]
    },
    {
     "name": "stderr",
     "output_type": "stream",
     "text": [
      "100%|██████████| 1875/1875 [00:08<00:00, 214.96it/s]\n"
     ]
    },
    {
     "name": "stdout",
     "output_type": "stream",
     "text": [
      "======> epoch: 75/120, Loss:0.02507965825498104\n",
      "Entering Epoch:  76\n"
     ]
    },
    {
     "name": "stderr",
     "output_type": "stream",
     "text": [
      "100%|██████████| 1875/1875 [00:08<00:00, 217.20it/s]\n"
     ]
    },
    {
     "name": "stdout",
     "output_type": "stream",
     "text": [
      "======> epoch: 76/120, Loss:0.025869159027934074\n",
      "Entering Epoch:  77\n"
     ]
    },
    {
     "name": "stderr",
     "output_type": "stream",
     "text": [
      "100%|██████████| 1875/1875 [00:08<00:00, 215.32it/s]\n"
     ]
    },
    {
     "name": "stdout",
     "output_type": "stream",
     "text": [
      "======> epoch: 77/120, Loss:0.028301088139414787\n",
      "Entering Epoch:  78\n"
     ]
    },
    {
     "name": "stderr",
     "output_type": "stream",
     "text": [
      "100%|██████████| 1875/1875 [00:08<00:00, 213.42it/s]\n"
     ]
    },
    {
     "name": "stdout",
     "output_type": "stream",
     "text": [
      "======> epoch: 78/120, Loss:0.024726813659071922\n",
      "Entering Epoch:  79\n"
     ]
    },
    {
     "name": "stderr",
     "output_type": "stream",
     "text": [
      "100%|██████████| 1875/1875 [00:08<00:00, 214.05it/s]\n"
     ]
    },
    {
     "name": "stdout",
     "output_type": "stream",
     "text": [
      "======> epoch: 79/120, Loss:0.026332087814807892\n",
      "Entering Epoch:  80\n"
     ]
    },
    {
     "name": "stderr",
     "output_type": "stream",
     "text": [
      "100%|██████████| 1875/1875 [00:08<00:00, 214.39it/s]\n"
     ]
    },
    {
     "name": "stdout",
     "output_type": "stream",
     "text": [
      "======> epoch: 80/120, Loss:0.026523221284151077\n",
      "Entering Epoch:  81\n"
     ]
    },
    {
     "name": "stderr",
     "output_type": "stream",
     "text": [
      "100%|██████████| 1875/1875 [00:08<00:00, 216.58it/s]\n"
     ]
    },
    {
     "name": "stdout",
     "output_type": "stream",
     "text": [
      "======> epoch: 81/120, Loss:0.024392535910010338\n",
      "Entering Epoch:  82\n"
     ]
    },
    {
     "name": "stderr",
     "output_type": "stream",
     "text": [
      "100%|██████████| 1875/1875 [00:08<00:00, 213.81it/s]\n"
     ]
    },
    {
     "name": "stdout",
     "output_type": "stream",
     "text": [
      "======> epoch: 82/120, Loss:0.022373251616954803\n",
      "Entering Epoch:  83\n"
     ]
    },
    {
     "name": "stderr",
     "output_type": "stream",
     "text": [
      "100%|██████████| 1875/1875 [00:08<00:00, 214.08it/s]\n"
     ]
    },
    {
     "name": "stdout",
     "output_type": "stream",
     "text": [
      "======> epoch: 83/120, Loss:0.023826822638511658\n",
      "Entering Epoch:  84\n"
     ]
    },
    {
     "name": "stderr",
     "output_type": "stream",
     "text": [
      "100%|██████████| 1875/1875 [00:08<00:00, 216.03it/s]\n"
     ]
    },
    {
     "name": "stdout",
     "output_type": "stream",
     "text": [
      "======> epoch: 84/120, Loss:0.020289380103349686\n",
      "Entering Epoch:  85\n"
     ]
    },
    {
     "name": "stderr",
     "output_type": "stream",
     "text": [
      "100%|██████████| 1875/1875 [00:08<00:00, 214.85it/s]\n"
     ]
    },
    {
     "name": "stdout",
     "output_type": "stream",
     "text": [
      "======> epoch: 85/120, Loss:0.026223089545965195\n",
      "Entering Epoch:  86\n"
     ]
    },
    {
     "name": "stderr",
     "output_type": "stream",
     "text": [
      "100%|██████████| 1875/1875 [00:08<00:00, 217.24it/s]\n"
     ]
    },
    {
     "name": "stdout",
     "output_type": "stream",
     "text": [
      "======> epoch: 86/120, Loss:0.02792184427380562\n",
      "Entering Epoch:  87\n"
     ]
    },
    {
     "name": "stderr",
     "output_type": "stream",
     "text": [
      "100%|██████████| 1875/1875 [00:08<00:00, 216.04it/s]\n"
     ]
    },
    {
     "name": "stdout",
     "output_type": "stream",
     "text": [
      "======> epoch: 87/120, Loss:0.0273551344871521\n",
      "Entering Epoch:  88\n"
     ]
    },
    {
     "name": "stderr",
     "output_type": "stream",
     "text": [
      "100%|██████████| 1875/1875 [00:08<00:00, 214.75it/s]\n"
     ]
    },
    {
     "name": "stdout",
     "output_type": "stream",
     "text": [
      "======> epoch: 88/120, Loss:0.025800025090575218\n",
      "Entering Epoch:  89\n"
     ]
    },
    {
     "name": "stderr",
     "output_type": "stream",
     "text": [
      "100%|██████████| 1875/1875 [00:08<00:00, 214.02it/s]\n"
     ]
    },
    {
     "name": "stdout",
     "output_type": "stream",
     "text": [
      "======> epoch: 89/120, Loss:0.025387784466147423\n",
      "Entering Epoch:  90\n"
     ]
    },
    {
     "name": "stderr",
     "output_type": "stream",
     "text": [
      "100%|██████████| 1875/1875 [00:08<00:00, 215.86it/s]\n"
     ]
    },
    {
     "name": "stdout",
     "output_type": "stream",
     "text": [
      "======> epoch: 90/120, Loss:0.02072254754602909\n",
      "Entering Epoch:  91\n"
     ]
    },
    {
     "name": "stderr",
     "output_type": "stream",
     "text": [
      "100%|██████████| 1875/1875 [00:08<00:00, 213.18it/s]\n"
     ]
    },
    {
     "name": "stdout",
     "output_type": "stream",
     "text": [
      "======> epoch: 91/120, Loss:0.022470708936452866\n",
      "Entering Epoch:  92\n"
     ]
    },
    {
     "name": "stderr",
     "output_type": "stream",
     "text": [
      "100%|██████████| 1875/1875 [00:08<00:00, 215.21it/s]\n"
     ]
    },
    {
     "name": "stdout",
     "output_type": "stream",
     "text": [
      "======> epoch: 92/120, Loss:0.02325282245874405\n",
      "Entering Epoch:  93\n"
     ]
    },
    {
     "name": "stderr",
     "output_type": "stream",
     "text": [
      "100%|██████████| 1875/1875 [00:08<00:00, 214.19it/s]\n"
     ]
    },
    {
     "name": "stdout",
     "output_type": "stream",
     "text": [
      "======> epoch: 93/120, Loss:0.0247874204069376\n",
      "Entering Epoch:  94\n"
     ]
    },
    {
     "name": "stderr",
     "output_type": "stream",
     "text": [
      "100%|██████████| 1875/1875 [00:08<00:00, 211.65it/s]\n"
     ]
    },
    {
     "name": "stdout",
     "output_type": "stream",
     "text": [
      "======> epoch: 94/120, Loss:0.027144981548190117\n",
      "Entering Epoch:  95\n"
     ]
    },
    {
     "name": "stderr",
     "output_type": "stream",
     "text": [
      "100%|██████████| 1875/1875 [00:08<00:00, 216.86it/s]\n"
     ]
    },
    {
     "name": "stdout",
     "output_type": "stream",
     "text": [
      "======> epoch: 95/120, Loss:0.024043738842010498\n",
      "Entering Epoch:  96\n"
     ]
    },
    {
     "name": "stderr",
     "output_type": "stream",
     "text": [
      "100%|██████████| 1875/1875 [00:08<00:00, 218.73it/s]\n"
     ]
    },
    {
     "name": "stdout",
     "output_type": "stream",
     "text": [
      "======> epoch: 96/120, Loss:0.023565197363495827\n",
      "Entering Epoch:  97\n"
     ]
    },
    {
     "name": "stderr",
     "output_type": "stream",
     "text": [
      "100%|██████████| 1875/1875 [00:08<00:00, 216.06it/s]\n"
     ]
    },
    {
     "name": "stdout",
     "output_type": "stream",
     "text": [
      "======> epoch: 97/120, Loss:0.023298470303416252\n",
      "Entering Epoch:  98\n"
     ]
    },
    {
     "name": "stderr",
     "output_type": "stream",
     "text": [
      "100%|██████████| 1875/1875 [00:08<00:00, 214.69it/s]\n"
     ]
    },
    {
     "name": "stdout",
     "output_type": "stream",
     "text": [
      "======> epoch: 98/120, Loss:0.0258132703602314\n",
      "Entering Epoch:  99\n"
     ]
    },
    {
     "name": "stderr",
     "output_type": "stream",
     "text": [
      "100%|██████████| 1875/1875 [00:08<00:00, 216.62it/s]\n"
     ]
    },
    {
     "name": "stdout",
     "output_type": "stream",
     "text": [
      "======> epoch: 99/120, Loss:0.02380821667611599\n",
      "Entering Epoch:  100\n"
     ]
    },
    {
     "name": "stderr",
     "output_type": "stream",
     "text": [
      "100%|██████████| 1875/1875 [00:08<00:00, 215.05it/s]\n"
     ]
    },
    {
     "name": "stdout",
     "output_type": "stream",
     "text": [
      "======> epoch: 100/120, Loss:0.02098420448601246\n",
      "Entering Epoch:  101\n"
     ]
    },
    {
     "name": "stderr",
     "output_type": "stream",
     "text": [
      "100%|██████████| 1875/1875 [00:08<00:00, 217.70it/s]\n"
     ]
    },
    {
     "name": "stdout",
     "output_type": "stream",
     "text": [
      "======> epoch: 101/120, Loss:0.02467244118452072\n",
      "Entering Epoch:  102\n"
     ]
    },
    {
     "name": "stderr",
     "output_type": "stream",
     "text": [
      "100%|██████████| 1875/1875 [00:08<00:00, 216.35it/s]\n"
     ]
    },
    {
     "name": "stdout",
     "output_type": "stream",
     "text": [
      "======> epoch: 102/120, Loss:0.024344999343156815\n",
      "Entering Epoch:  103\n"
     ]
    },
    {
     "name": "stderr",
     "output_type": "stream",
     "text": [
      "100%|██████████| 1875/1875 [00:08<00:00, 217.91it/s]\n"
     ]
    },
    {
     "name": "stdout",
     "output_type": "stream",
     "text": [
      "======> epoch: 103/120, Loss:0.0234904233366251\n",
      "Entering Epoch:  104\n"
     ]
    },
    {
     "name": "stderr",
     "output_type": "stream",
     "text": [
      "100%|██████████| 1875/1875 [00:08<00:00, 215.93it/s]\n"
     ]
    },
    {
     "name": "stdout",
     "output_type": "stream",
     "text": [
      "======> epoch: 104/120, Loss:0.023675214499235153\n",
      "Entering Epoch:  105\n"
     ]
    },
    {
     "name": "stderr",
     "output_type": "stream",
     "text": [
      "100%|██████████| 1875/1875 [00:08<00:00, 212.64it/s]\n"
     ]
    },
    {
     "name": "stdout",
     "output_type": "stream",
     "text": [
      "======> epoch: 105/120, Loss:0.020565278828144073\n",
      "Entering Epoch:  106\n"
     ]
    },
    {
     "name": "stderr",
     "output_type": "stream",
     "text": [
      "100%|██████████| 1875/1875 [00:08<00:00, 218.34it/s]\n"
     ]
    },
    {
     "name": "stdout",
     "output_type": "stream",
     "text": [
      "======> epoch: 106/120, Loss:0.023868147283792496\n",
      "Entering Epoch:  107\n"
     ]
    },
    {
     "name": "stderr",
     "output_type": "stream",
     "text": [
      "100%|██████████| 1875/1875 [00:08<00:00, 214.43it/s]\n"
     ]
    },
    {
     "name": "stdout",
     "output_type": "stream",
     "text": [
      "======> epoch: 107/120, Loss:0.022572709247469902\n",
      "Entering Epoch:  108\n"
     ]
    },
    {
     "name": "stderr",
     "output_type": "stream",
     "text": [
      "100%|██████████| 1875/1875 [00:08<00:00, 215.18it/s]\n"
     ]
    },
    {
     "name": "stdout",
     "output_type": "stream",
     "text": [
      "======> epoch: 108/120, Loss:0.02193456143140793\n",
      "Entering Epoch:  109\n"
     ]
    },
    {
     "name": "stderr",
     "output_type": "stream",
     "text": [
      "100%|██████████| 1875/1875 [00:08<00:00, 215.14it/s]\n"
     ]
    },
    {
     "name": "stdout",
     "output_type": "stream",
     "text": [
      "======> epoch: 109/120, Loss:0.020820902660489082\n",
      "Entering Epoch:  110\n"
     ]
    },
    {
     "name": "stderr",
     "output_type": "stream",
     "text": [
      "100%|██████████| 1875/1875 [00:08<00:00, 217.24it/s]\n"
     ]
    },
    {
     "name": "stdout",
     "output_type": "stream",
     "text": [
      "======> epoch: 110/120, Loss:0.024704113602638245\n",
      "Entering Epoch:  111\n"
     ]
    },
    {
     "name": "stderr",
     "output_type": "stream",
     "text": [
      "100%|██████████| 1875/1875 [00:08<00:00, 218.95it/s]\n"
     ]
    },
    {
     "name": "stdout",
     "output_type": "stream",
     "text": [
      "======> epoch: 111/120, Loss:0.023490818217396736\n",
      "Entering Epoch:  112\n"
     ]
    },
    {
     "name": "stderr",
     "output_type": "stream",
     "text": [
      "100%|██████████| 1875/1875 [00:08<00:00, 216.84it/s]\n"
     ]
    },
    {
     "name": "stdout",
     "output_type": "stream",
     "text": [
      "======> epoch: 112/120, Loss:0.021387949585914612\n",
      "Entering Epoch:  113\n"
     ]
    },
    {
     "name": "stderr",
     "output_type": "stream",
     "text": [
      "100%|██████████| 1875/1875 [00:08<00:00, 214.01it/s]\n"
     ]
    },
    {
     "name": "stdout",
     "output_type": "stream",
     "text": [
      "======> epoch: 113/120, Loss:0.021293655037879944\n",
      "Entering Epoch:  114\n"
     ]
    },
    {
     "name": "stderr",
     "output_type": "stream",
     "text": [
      "100%|██████████| 1875/1875 [00:08<00:00, 214.37it/s]\n"
     ]
    },
    {
     "name": "stdout",
     "output_type": "stream",
     "text": [
      "======> epoch: 114/120, Loss:0.020733706653118134\n",
      "Entering Epoch:  115\n"
     ]
    },
    {
     "name": "stderr",
     "output_type": "stream",
     "text": [
      "100%|██████████| 1875/1875 [00:08<00:00, 215.77it/s]\n"
     ]
    },
    {
     "name": "stdout",
     "output_type": "stream",
     "text": [
      "======> epoch: 115/120, Loss:0.026677779853343964\n",
      "Entering Epoch:  116\n"
     ]
    },
    {
     "name": "stderr",
     "output_type": "stream",
     "text": [
      "100%|██████████| 1875/1875 [00:08<00:00, 216.61it/s]\n"
     ]
    },
    {
     "name": "stdout",
     "output_type": "stream",
     "text": [
      "======> epoch: 116/120, Loss:0.019166281446814537\n",
      "Entering Epoch:  117\n"
     ]
    },
    {
     "name": "stderr",
     "output_type": "stream",
     "text": [
      "100%|██████████| 1875/1875 [00:08<00:00, 216.27it/s]\n"
     ]
    },
    {
     "name": "stdout",
     "output_type": "stream",
     "text": [
      "======> epoch: 117/120, Loss:0.02066527120769024\n",
      "Entering Epoch:  118\n"
     ]
    },
    {
     "name": "stderr",
     "output_type": "stream",
     "text": [
      "100%|██████████| 1875/1875 [00:08<00:00, 214.90it/s]\n"
     ]
    },
    {
     "name": "stdout",
     "output_type": "stream",
     "text": [
      "======> epoch: 118/120, Loss:0.018165450543165207\n",
      "Entering Epoch:  119\n"
     ]
    },
    {
     "name": "stderr",
     "output_type": "stream",
     "text": [
      "100%|██████████| 1875/1875 [00:08<00:00, 211.59it/s]"
     ]
    },
    {
     "name": "stdout",
     "output_type": "stream",
     "text": [
      "======> epoch: 119/120, Loss:0.02626521699130535\n"
     ]
    },
    {
     "name": "stderr",
     "output_type": "stream",
     "text": [
      "\n"
     ]
    }
   ],
   "source": [
    "epochs=120\n",
    "l=len(trainloader)\n",
    "losslist=list()\n",
    "epochloss=0\n",
    "running_loss=0\n",
    "for epoch in range(epochs):\n",
    "  \n",
    "  print(\"Entering Epoch: \",epoch)\n",
    "  for dirty,clean,label in tqdm((trainloader)):\n",
    "    \n",
    "    \n",
    "    dirty=dirty.view(dirty.size(0),-1).type(torch.FloatTensor)\n",
    "    clean=clean.view(clean.size(0),-1).type(torch.FloatTensor)\n",
    "    dirty,clean=dirty.to(device),clean.to(device)\n",
    "    \n",
    "    \n",
    "    \n",
    "    #-----------------Forward Pass----------------------\n",
    "    output=model(dirty)\n",
    "    loss=criterion(output,clean)\n",
    "    #-----------------Backward Pass---------------------\n",
    "    optimizer.zero_grad()\n",
    "    loss.backward()\n",
    "    optimizer.step()\n",
    "    \n",
    "    running_loss+=loss.item()\n",
    "    epochloss+=loss.item()\n",
    "  #-----------------Log-------------------------------\n",
    "  losslist.append(running_loss/l)\n",
    "  running_loss=0\n",
    "  print(\"======> epoch: {}/{}, Loss:{}\".format(epoch,epochs,loss.item()))\n",
    "    \n",
    "    \n",
    "      \n",
    "      \n",
    "    \n",
    "\n",
    " "
   ]
  },
  {
   "cell_type": "code",
   "execution_count": 93,
   "metadata": {
    "colab": {
     "base_uri": "https://localhost:8080/",
     "height": 287
    },
    "colab_type": "code",
    "id": "rT6HTaPB5IAL",
    "outputId": "1dbaa140-6874-4ebc-99a3-8bdfd14e7ae3"
   },
   "outputs": [
    {
     "data": {
      "text/plain": [
       "[<matplotlib.lines.Line2D at 0x7f17f2e1c390>]"
      ]
     },
     "execution_count": 93,
     "metadata": {},
     "output_type": "execute_result"
    },
    {
     "data": {
      "image/png": "[encoded data removed]",
      "text/plain": [
       "<Figure size 432x288 with 1 Axes>"
      ]
     },
     "metadata": {
      "needs_background": "light"
     },
     "output_type": "display_data"
    }
   ],
   "source": [
    "plt.plot(range(len(losslist)),losslist)"
   ]
  },
  {
   "cell_type": "code",
   "execution_count": 101,
   "metadata": {
    "colab": {
     "base_uri": "https://localhost:8080/",
     "height": 1151
    },
    "colab_type": "code",
    "id": "D2TAOjeZMBfp",
    "outputId": "0771669b-3b4d-4311-e233-a3b432960362",
    "scrolled": true
   },
   "outputs": [
    {
     "name": "stdout",
     "output_type": "stream",
     "text": [
      "[3190, 1561, 5866, 9606, 9304, 5237]\n",
      "Elapsed: 0.51ms\n",
      "Elapsed: 4.52ms\n",
      "Elapsed: 0.66ms\n",
      "Elapsed: 0.79ms\n",
      "Elapsed: 0.41ms\n",
      "Elapsed: 0.37ms\n"
     ]
    },
    {
     "data": {
      "image/png": "[encoded data removed]",
      "text/plain": [
       "<Figure size 1440x1440 with 18 Axes>"
      ]
     },
     "metadata": {
      "needs_background": "light"
     },
     "output_type": "display_data"
    }
   ],
   "source": [
    "\"\"\"Here, we try to visualize some of the results.\n",
    "  We randomly generate 6 numbers in between 1 and 10k , run them through the model,\n",
    "  and show the results with comparisons\n",
    "  \n",
    " \"\"\"\n",
    "import time\n",
    "\n",
    "device='cpu'\n",
    "model.to(device)\n",
    "\n",
    "f,axes= plt.subplots(6,3,figsize=(20,20))\n",
    "axes[0,0].set_title(\"Original Image\")\n",
    "axes[0,1].set_title(\"Dirty Image\")\n",
    "axes[0,2].set_title(\"Cleaned Image\")\n",
    "#test_imgs=np.random.randint(0,10000,size=6)\n",
    "test_imgs = [3190, 1561, 5866, 9606, 9304, 5237]\n",
    "print(test_imgs)\n",
    "\n",
    "for idx in range((6)):\n",
    "  dirty=testset[test_imgs[idx]][0]\n",
    "  clean=testset[test_imgs[idx]][1]\n",
    "  label=testset[test_imgs[idx]][2]\n",
    "  dirty=dirty.view(dirty.size(0),-1).type(torch.FloatTensor)\n",
    "  dirty=dirty.to(device)\n",
    "\n",
    "  t = time.time()\n",
    "  output=model(dirty)\n",
    "  print(f'Elapsed: {(time.time() - t) * 1000:.2f}ms')\n",
    "  \n",
    "  output=output.view(1,28,28)\n",
    "  output=output.permute(1,2,0).squeeze(2)\n",
    "  output=output.detach().cpu().numpy()\n",
    "  \n",
    "  dirty=dirty.view(1,28,28)\n",
    "  dirty=dirty.permute(1,2,0).squeeze(2)\n",
    "  dirty=dirty.detach().cpu().numpy()\n",
    "  \n",
    "  clean=clean.permute(1,2,0).squeeze(2)\n",
    "  clean=clean.detach().cpu().numpy()\n",
    "  \n",
    "  axes[idx,0].imshow(clean,cmap=\"gray\")\n",
    "  axes[idx,1].imshow(dirty,cmap=\"gray\")\n",
    "  axes[idx,2].imshow(output,cmap=\"gray\")\n",
    "  \n",
    "  \n",
    "  \n",
    "  \n",
    "  "
   ]
  },
  {
   "cell_type": "code",
   "execution_count": 97,
   "metadata": {
    "colab": {},
    "colab_type": "code",
    "id": "PhP1vseSPcZc"
   },
   "outputs": [],
   "source": [
    "PATH=\"training/denoising_1.pth\"\n",
    "torch.save(model,PATH)  # We save the model state dict at PATH   "
   ]
  },
  {
   "cell_type": "code",
   "execution_count": null,
   "metadata": {},
   "outputs": [],
   "source": []
  }
 ],
 "metadata": {
  "accelerator": "GPU",
  "colab": {
   "collapsed_sections": [],
   "name": "DenoisingAutoencoder.ipynb",
   "provenance": [],
   "version": "0.3.2"
  },
  "kernelspec": {
   "display_name": "Python 3",
   "language": "python",
   "name": "python3"
  },
  "language_info": {
   "codemirror_mode": {
    "name": "ipython",
    "version": 3
   },
   "file_extension": ".py",
   "mimetype": "text/x-python",
   "name": "python",
   "nbconvert_exporter": "python",
   "pygments_lexer": "ipython3",
   "version": "3.6.9"
  }
 },
 "nbformat": 4,
 "nbformat_minor": 1
}
